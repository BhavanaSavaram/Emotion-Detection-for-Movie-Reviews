{
 "cells": [
  {
   "cell_type": "code",
   "execution_count": 20,
   "metadata": {},
   "outputs": [
    {
     "name": "stdout",
     "output_type": "stream",
     "text": [
      "Negative Review  :  Lack of cleanliness in the room wardrobes and washroom\n",
      "Negative Review  :  The room was dump. there was a small wardrobe which we could not use as it was not pleasant\n",
      "Positive Review  :  Simple very nicely done and managed place . Good attentive staff , great food , nice quote location .. very good value for money place\n",
      "Positive Review  :  Lovely decor and prompt service\n",
      "Negative Review  :  It was worth the money paid\n"
     ]
    }
   ],
   "source": [
    "#import sentiment1 as s\n",
    "import sent as s\n",
    "input1=\"Lack of cleanliness in the room wardrobes and washroom\"\n",
    "print(s.sentiment(input1),\" : \",input1)\n",
    "\n",
    "input2=\"The room was dump. there was a small wardrobe which we could not use as it was not pleasant\"\n",
    "print(s.sentiment(input2),\" : \",input2)\n",
    "\n",
    "input3=\"Simple very nicely done and managed place . Good attentive staff , great food , nice quote location .. very good value for money place\"\n",
    "print(s.sentiment(input3),\" : \",input3)\n",
    "\n",
    "input4=\"Lovely decor and prompt service\"\n",
    "print(s.sentiment(input4),\" : \",input4)\n"
    "input5=\"It was worth the money paid\"\n",
    "print(s.sentiment(input5),\" : \",input5)\n"
   ]
  },
  {
   "cell_type": "code",
   "execution_count": null,
   "metadata": {},
   "outputs": [],
   "source": []
  },
  {
   "cell_type": "code",
   "execution_count": null,
   "metadata": {},
   "outputs": [],
   "source": []
  }
 ],
 "metadata": {
  "kernelspec": {
   "display_name": "Python 3",
   "language": "python",
   "name": "python3"
  },
  "language_info": {
   "codemirror_mode": {
    "name": "ipython",
    "version": 3
   },
   "file_extension": ".py",
   "mimetype": "text/x-python",
   "name": "python",
   "nbconvert_exporter": "python",
   "pygments_lexer": "ipython3",
   "version": "3.7.4"
  }
 },
 "nbformat": 4,
 "nbformat_minor": 2
}
